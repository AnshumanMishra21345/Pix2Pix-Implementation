{
  "cells": [
    {
      "cell_type": "code",
      "execution_count": null,
      "metadata": {
        "id": "oSPnRnENH7Tu"
      },
      "outputs": [],
      "source": [
        "import torch\n",
        "import torch.nn as nn\n",
        "import torch.optim as optim\n",
        "import torchvision\n",
        "import torchvision.transforms as transforms\n",
        "from torch.utils.data import DataLoader, Dataset\n",
        "import matplotlib.pyplot as plt\n",
        "import numpy as np"
      ]
    },
    {
      "cell_type": "code",
      "execution_count": null,
      "metadata": {
        "colab": {
          "base_uri": "https://localhost:8080/"
        },
        "id": "tbVmJPHyH-j4",
        "outputId": "5687eaca-e6e4-48b1-f448-8b98b31af234"
      },
      "outputs": [
        {
          "output_type": "stream",
          "name": "stdout",
          "text": [
            "Downloading http://yann.lecun.com/exdb/mnist/train-images-idx3-ubyte.gz\n",
            "Failed to download (trying next):\n",
            "HTTP Error 404: Not Found\n",
            "\n",
            "Downloading https://ossci-datasets.s3.amazonaws.com/mnist/train-images-idx3-ubyte.gz\n",
            "Downloading https://ossci-datasets.s3.amazonaws.com/mnist/train-images-idx3-ubyte.gz to ./data/MNIST/raw/train-images-idx3-ubyte.gz\n"
          ]
        },
        {
          "output_type": "stream",
          "name": "stderr",
          "text": [
            "100%|██████████| 9.91M/9.91M [00:00<00:00, 17.7MB/s]\n"
          ]
        },
        {
          "output_type": "stream",
          "name": "stdout",
          "text": [
            "Extracting ./data/MNIST/raw/train-images-idx3-ubyte.gz to ./data/MNIST/raw\n",
            "\n",
            "Downloading http://yann.lecun.com/exdb/mnist/train-labels-idx1-ubyte.gz\n",
            "Failed to download (trying next):\n",
            "HTTP Error 404: Not Found\n",
            "\n",
            "Downloading https://ossci-datasets.s3.amazonaws.com/mnist/train-labels-idx1-ubyte.gz\n",
            "Downloading https://ossci-datasets.s3.amazonaws.com/mnist/train-labels-idx1-ubyte.gz to ./data/MNIST/raw/train-labels-idx1-ubyte.gz\n"
          ]
        },
        {
          "output_type": "stream",
          "name": "stderr",
          "text": [
            "100%|██████████| 28.9k/28.9k [00:00<00:00, 474kB/s]\n"
          ]
        },
        {
          "output_type": "stream",
          "name": "stdout",
          "text": [
            "Extracting ./data/MNIST/raw/train-labels-idx1-ubyte.gz to ./data/MNIST/raw\n",
            "\n",
            "Downloading http://yann.lecun.com/exdb/mnist/t10k-images-idx3-ubyte.gz\n",
            "Failed to download (trying next):\n",
            "HTTP Error 404: Not Found\n",
            "\n",
            "Downloading https://ossci-datasets.s3.amazonaws.com/mnist/t10k-images-idx3-ubyte.gz\n",
            "Downloading https://ossci-datasets.s3.amazonaws.com/mnist/t10k-images-idx3-ubyte.gz to ./data/MNIST/raw/t10k-images-idx3-ubyte.gz\n"
          ]
        },
        {
          "output_type": "stream",
          "name": "stderr",
          "text": [
            "100%|██████████| 1.65M/1.65M [00:00<00:00, 4.43MB/s]\n"
          ]
        },
        {
          "output_type": "stream",
          "name": "stdout",
          "text": [
            "Extracting ./data/MNIST/raw/t10k-images-idx3-ubyte.gz to ./data/MNIST/raw\n",
            "\n",
            "Downloading http://yann.lecun.com/exdb/mnist/t10k-labels-idx1-ubyte.gz\n",
            "Failed to download (trying next):\n",
            "HTTP Error 404: Not Found\n",
            "\n",
            "Downloading https://ossci-datasets.s3.amazonaws.com/mnist/t10k-labels-idx1-ubyte.gz\n",
            "Downloading https://ossci-datasets.s3.amazonaws.com/mnist/t10k-labels-idx1-ubyte.gz to ./data/MNIST/raw/t10k-labels-idx1-ubyte.gz\n"
          ]
        },
        {
          "output_type": "stream",
          "name": "stderr",
          "text": [
            "100%|██████████| 4.54k/4.54k [00:00<00:00, 7.49MB/s]"
          ]
        },
        {
          "output_type": "stream",
          "name": "stdout",
          "text": [
            "Extracting ./data/MNIST/raw/t10k-labels-idx1-ubyte.gz to ./data/MNIST/raw\n",
            "\n"
          ]
        },
        {
          "output_type": "stream",
          "name": "stderr",
          "text": [
            "\n"
          ]
        }
      ],
      "source": [
        "transform = transforms.Compose([\n",
        "    transforms.ToTensor(),\n",
        "    transforms.Normalize((0.5,), (0.5,))\n",
        "])\n",
        "\n",
        "# Loading MNIST dataset\n",
        "dataset = torchvision.datasets.MNIST(root=\"./data\", train=True, transform=transform, download=True)\n",
        "dataloader = DataLoader(dataset, batch_size=128, shuffle=True)"
      ]
    },
    {
      "cell_type": "code",
      "execution_count": null,
      "metadata": {
        "id": "eLu8kIuGIG--"
      },
      "outputs": [],
      "source": [
        "class Generator(nn.Module):\n",
        "    def __init__(self, latent_dim, num_classes, img_shape):\n",
        "        super(Generator, self).__init__()\n",
        "        self.latent_dim = latent_dim\n",
        "        self.label_embedding = nn.Embedding(num_classes, num_classes)  # Embed labels\n",
        "\n",
        "        self.model = nn.Sequential(\n",
        "            nn.Linear(latent_dim + num_classes, 128),\n",
        "            nn.ReLU(),\n",
        "            nn.Linear(128, 256),\n",
        "            nn.ReLU(),\n",
        "            nn.Linear(256, 512),\n",
        "            nn.ReLU(),\n",
        "            nn.Linear(512, int(np.prod(img_shape))),\n",
        "            nn.Tanh()\n",
        "        )\n",
        "        self.img_shape = img_shape\n",
        "\n",
        "    def forward(self, noise, labels):\n",
        "        label_embedding = self.label_embedding(labels)  # Convert labels to embeddings\n",
        "        x = torch.cat((noise, label_embedding), dim=1)  # Concatenate noise & labels\n",
        "        img = self.model(x)\n",
        "        img = img.view(img.size(0), *self.img_shape)  # Reshape to image\n",
        "        return img"
      ]
    },
    {
      "cell_type": "code",
      "execution_count": null,
      "metadata": {
        "id": "eP1Xdm7mIKgq"
      },
      "outputs": [],
      "source": [
        "class Discriminator(nn.Module):\n",
        "    def __init__(self, num_classes, img_shape):\n",
        "        super(Discriminator, self).__init__()\n",
        "        self.img_shape = img_shape\n",
        "        self.label_embedding = nn.Embedding(num_classes, num_classes)  # Embed labels\n",
        "\n",
        "        self.model = nn.Sequential(\n",
        "            nn.Linear(int(np.prod(img_shape)) + num_classes, 512),\n",
        "            nn.LeakyReLU(0.2),\n",
        "            nn.Linear(512, 256),\n",
        "            nn.LeakyReLU(0.2),\n",
        "            nn.Linear(256, 128),\n",
        "            nn.LeakyReLU(0.2),\n",
        "            nn.Linear(128, 1),\n",
        "            nn.Sigmoid()\n",
        "        )\n",
        "\n",
        "    def forward(self, img, labels):\n",
        "        label_embedding = self.label_embedding(labels)  # Convert labels to embeddings\n",
        "        x = torch.cat((img.view(img.size(0), -1), label_embedding), dim=1)  # Flatten image & concatenate label\n",
        "        validity = self.model(x)  # Predict real/fake\n",
        "        return validity"
      ]
    },
    {
      "cell_type": "code",
      "execution_count": null,
      "metadata": {
        "colab": {
          "base_uri": "https://localhost:8080/"
        },
        "id": "gnYm6JCrIij3",
        "outputId": "b402e7c6-bac1-4c6b-ac41-7e6b80df1ebc"
      },
      "outputs": [
        {
          "output_type": "execute_result",
          "data": {
            "text/plain": [
              "BCELoss()"
            ]
          },
          "metadata": {},
          "execution_count": 7
        }
      ],
      "source": [
        "# Model params\n",
        "latent_dim = 100\n",
        "num_classes = 10\n",
        "img_shape = (1, 28, 28)  # Image size\n",
        "\n",
        "# Initialize models\n",
        "generator = Generator(latent_dim, num_classes, img_shape)\n",
        "discriminator = Discriminator(num_classes, img_shape)\n",
        "\n",
        "# Loss function\n",
        "adversarial_loss = nn.BCELoss()\n",
        "\n",
        "# Optimizers\n",
        "lr = 0.0002\n",
        "b1, b2 = 0.5, 0.999  # Adam params\n",
        "optimizer_G = optim.Adam(generator.parameters(), lr=lr, betas=(b1, b2))\n",
        "optimizer_D = optim.Adam(discriminator.parameters(), lr=lr, betas=(b1, b2))\n",
        "\n",
        "# Move models to GPU if available\n",
        "device = torch.device(\"cuda\" if torch.cuda.is_available() else \"cpu\")\n",
        "generator.to(device)\n",
        "discriminator.to(device)\n",
        "adversarial_loss.to(device)"
      ]
    },
    {
      "cell_type": "code",
      "execution_count": null,
      "metadata": {
        "colab": {
          "base_uri": "https://localhost:8080/"
        },
        "id": "r-e2xo6pIm_U",
        "outputId": "495a5abd-33ac-4f1e-e89a-1c73336427ef"
      },
      "outputs": [
        {
          "output_type": "stream",
          "name": "stdout",
          "text": [
            "Epoch [1/25] | D Loss: 0.3875 | G Loss: 3.3266\n",
            "Epoch [2/25] | D Loss: 1.4890 | G Loss: 3.2571\n",
            "Epoch [3/25] | D Loss: 0.3772 | G Loss: 5.9287\n",
            "Epoch [4/25] | D Loss: 0.0835 | G Loss: 4.4216\n",
            "Epoch [5/25] | D Loss: 0.0882 | G Loss: 3.6197\n",
            "Epoch [6/25] | D Loss: 2.0108 | G Loss: 6.6731\n",
            "Epoch [7/25] | D Loss: 0.2076 | G Loss: 1.4534\n",
            "Epoch [8/25] | D Loss: 0.0104 | G Loss: 5.4370\n",
            "Epoch [9/25] | D Loss: 0.0961 | G Loss: 4.7330\n",
            "Epoch [10/25] | D Loss: 0.0022 | G Loss: 6.4680\n",
            "Epoch [11/25] | D Loss: 0.0005 | G Loss: 7.8330\n",
            "Epoch [12/25] | D Loss: 0.0002 | G Loss: 8.9419\n",
            "Epoch [13/25] | D Loss: 0.0001 | G Loss: 9.6058\n",
            "Epoch [14/25] | D Loss: 0.0000 | G Loss: 10.9688\n",
            "Epoch [15/25] | D Loss: 0.0000 | G Loss: 11.1966\n",
            "Epoch [16/25] | D Loss: 0.0000 | G Loss: 10.5504\n",
            "Epoch [17/25] | D Loss: 0.0001 | G Loss: 10.0840\n",
            "Epoch [18/25] | D Loss: 0.0001 | G Loss: 9.0302\n",
            "Epoch [19/25] | D Loss: 0.0003 | G Loss: 8.3631\n",
            "Epoch [20/25] | D Loss: 0.0002 | G Loss: 10.2375\n",
            "Epoch [21/25] | D Loss: 0.0003 | G Loss: 10.5613\n",
            "Epoch [22/25] | D Loss: 0.0000 | G Loss: 11.5092\n",
            "Epoch [23/25] | D Loss: 0.0000 | G Loss: 11.7757\n",
            "Epoch [24/25] | D Loss: 0.0000 | G Loss: 12.3506\n",
            "Epoch [25/25] | D Loss: 0.0000 | G Loss: 12.9433\n"
          ]
        }
      ],
      "source": [
        "num_epochs = 25\n",
        "\n",
        "for epoch in range(num_epochs):\n",
        "    for i, (imgs, labels) in enumerate(dataloader):\n",
        "        batch_size = imgs.shape[0]\n",
        "\n",
        "        # Move to GPU if available\n",
        "        imgs, labels = imgs.to(device), labels.to(device)\n",
        "\n",
        "        #  Train Discriminator\n",
        "        optimizer_D.zero_grad()\n",
        "\n",
        "        # Real images\n",
        "        real_labels = torch.ones(batch_size, 1, device=device)\n",
        "        fake_labels = torch.zeros(batch_size, 1, device=device)\n",
        "        real_pred = discriminator(imgs, labels)\n",
        "        real_loss = adversarial_loss(real_pred, real_labels)\n",
        "\n",
        "        # Fake images\n",
        "        z = torch.randn(batch_size, latent_dim, device=device)\n",
        "        gen_imgs = generator(z, labels)\n",
        "        fake_pred = discriminator(gen_imgs.detach(), labels)\n",
        "        fake_loss = adversarial_loss(fake_pred, fake_labels)\n",
        "\n",
        "        # Total discriminator loss\n",
        "        d_loss = real_loss + fake_loss\n",
        "        d_loss.backward()\n",
        "        optimizer_D.step()\n",
        "\n",
        "        #  Train Generator\n",
        "        optimizer_G.zero_grad()\n",
        "\n",
        "        # Generator loss (wants D(G(z, y)) to be 1)\n",
        "        fake_pred = discriminator(gen_imgs, labels)\n",
        "        g_loss = adversarial_loss(fake_pred, real_labels)\n",
        "\n",
        "        g_loss.backward()\n",
        "        optimizer_G.step()\n",
        "\n",
        "    print(f\"Epoch [{epoch+1}/{num_epochs}] | D Loss: {d_loss.item():.4f} | G Loss: {g_loss.item():.4f}\")"
      ]
    },
    {
      "cell_type": "code",
      "execution_count": null,
      "metadata": {
        "id": "p4SepPoPIqpz",
        "colab": {
          "base_uri": "https://localhost:8080/"
        },
        "outputId": "e640d525-b986-4bf8-db0e-6e8158467801"
      },
      "outputs": [
        {
          "output_type": "stream",
          "name": "stdout",
          "text": [
            "Mounted at /content/drive\n",
            "Models saved to /content/drive/MyDrive/cGAN_models\n"
          ]
        }
      ],
      "source": [
        "import os\n",
        "from google.colab import drive\n",
        "\n",
        "drive.mount('/content/drive')\n",
        "\n",
        "# Create directory if not exists\n",
        "save_dir = \"/content/drive/MyDrive/cGAN_models\"\n",
        "os.makedirs(save_dir, exist_ok=True)\n",
        "\n",
        "# Save generator & discriminator\n",
        "torch.save(generator.state_dict(), os.path.join(save_dir, \"generator.pth\"))\n",
        "torch.save(discriminator.state_dict(), os.path.join(save_dir, \"discriminator.pth\"))\n",
        "\n",
        "print(f\"Models saved to {save_dir}\")"
      ]
    },
    {
      "cell_type": "code",
      "source": [
        "import matplotlib.pyplot as plt\n",
        "\n",
        "def generate_images(generator, device, latent_dim, labels):\n",
        "    generator.eval()\n",
        "    z = torch.randn(len(labels), latent_dim, device=device)\n",
        "    labels = torch.tensor(labels, device=device)\n",
        "\n",
        "    with torch.no_grad():\n",
        "        gen_imgs = generator(z, labels).cpu()\n",
        "\n",
        "    fig, axes = plt.subplots(1, len(labels), figsize=(15, 3))\n",
        "    for i, ax in enumerate(axes):\n",
        "        ax.imshow(gen_imgs[i].squeeze(0), cmap=\"gray\")\n",
        "        ax.set_title(f\"Label: {labels[i].item()}\")\n",
        "        ax.axis(\"off\")\n",
        "\n",
        "    plt.show()\n",
        "\n",
        "# Example: Generate digits 0-7\n",
        "generate_images(generator, device, latent_dim, labels=[0, 1, 2, 3, 4, 5, 6, 7])"
      ],
      "metadata": {
        "colab": {
          "base_uri": "https://localhost:8080/",
          "height": 183
        },
        "id": "BcedW_RILdQj",
        "outputId": "9814ec29-1fd2-4f89-da5a-44882dd746e4"
      },
      "execution_count": null,
      "outputs": [
        {
          "output_type": "display_data",
          "data": {
            "text/plain": [
              "<Figure size 1500x300 with 8 Axes>"
            ],
            "image/png": "[encoded data removed]"
          },
          "metadata": {}
        }
      ]
    },
    {
      "cell_type": "code",
      "source": [],
      "metadata": {
        "id": "HwSxeaLbLps1"
      },
      "execution_count": null,
      "outputs": []
    }
  ],
  "metadata": {
    "colab": {
      "provenance": [],
      "gpuType": "T4"
    },
    "kernelspec": {
      "display_name": "Python 3",
      "name": "python3"
    },
    "language_info": {
      "name": "python"
    },
    "accelerator": "GPU"
  },
  "nbformat": 4,
  "nbformat_minor": 0
}