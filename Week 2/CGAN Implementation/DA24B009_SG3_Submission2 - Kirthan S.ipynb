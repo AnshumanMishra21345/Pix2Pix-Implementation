{
  "cells": [
    {
      "cell_type": "code",
      "execution_count": null,
      "metadata": {
        "id": "pAyhg17WCz-0"
      },
      "outputs": [],
      "source": [
        "import torch\n",
        "import torch.nn as nn\n",
        "import torchvision.datasets as datasets\n",
        "from torch.utils.data import DataLoader\n",
        "import torchvision\n",
        "from torchvision.transforms import transforms\n",
        "import torch.optim as optim\n",
        "import os\n",
        "import shutil"
      ]
    },
    {
      "cell_type": "code",
      "execution_count": null,
      "metadata": {
        "id": "VrQYsLbkCz-4"
      },
      "outputs": [],
      "source": [
        "class Discriminator(nn.Module):\n",
        "    def __init__(self, image_dim, num_classes, embed_length):\n",
        "        super().__init__()\n",
        "        self.disc = nn.Sequential(\n",
        "            nn.Linear(image_dim+embed_length, 128),\n",
        "            nn.LeakyReLU(0.01),\n",
        "            nn.Linear(128, 1),\n",
        "            nn.Sigmoid()\n",
        "        )\n",
        "        self.embed = nn.Embedding(num_classes, embed_length)\n",
        "\n",
        "    def forward(self, x, label):\n",
        "        embedding = self.embed(label)\n",
        "        x = torch.cat([x, embedding], dim=1)\n",
        "        return self.disc(x)\n",
        "\n",
        "class Generator(nn.Module):\n",
        "    def __init__(self, z_dim, image_dim, num_classes, embed_length):\n",
        "        super().__init__()\n",
        "        self.gen = nn.Sequential(\n",
        "            nn.Linear(z_dim+embed_length, 256),\n",
        "            nn.LeakyReLU(0.01),\n",
        "            nn.Linear(256, image_dim),\n",
        "            nn.Tanh()\n",
        "        )\n",
        "        self.embed = nn.Embedding(num_classes, embed_length)\n",
        "\n",
        "    def forward(self, z, label):\n",
        "        embedding = self.embed(label)\n",
        "        z = torch.cat([z, embedding], dim=1)\n",
        "        return self.gen(z)"
      ]
    },
    {
      "cell_type": "code",
      "execution_count": null,
      "metadata": {
        "id": "zUf6v9j-Cz-5"
      },
      "outputs": [],
      "source": [
        "image_dim = 28 * 28 * 1\n",
        "batch_size = 32\n",
        "z_dim = 100\n",
        "epochs = 100\n",
        "lr = 3e-4\n",
        "num_classes = 10\n",
        "embed_length = 16\n",
        "\n",
        "device = \"cuda\" if torch.cuda.is_available() else \"cpu\""
      ]
    },
    {
      "cell_type": "code",
      "execution_count": null,
      "metadata": {
        "id": "JRUY1acjCz-5"
      },
      "outputs": [],
      "source": [
        "disc = Discriminator(image_dim, num_classes, embed_length).to(device)\n",
        "gen = Generator(z_dim, image_dim, num_classes, embed_length).to(device)\n",
        "fixed_noise = torch.randn((batch_size, z_dim)).to(device)\n",
        "fixed_label = torch.randint(0, 10, (batch_size,)).to(device)\n",
        "\n",
        "pixel_transform = transforms.Compose(\n",
        "    [\n",
        "        transforms.ToTensor(),\n",
        "        transforms.Normalize(0.5, 0.5)\n",
        "    ]\n",
        ")"
      ]
    },
    {
      "cell_type": "code",
      "execution_count": null,
      "metadata": {
        "id": "u_c7HOLWCz-5"
      },
      "outputs": [],
      "source": [
        "dataset = datasets.MNIST(root=\"dataset/\", transform=pixel_transform, download=False)\n",
        "loader = DataLoader(dataset, batch_size=batch_size, shuffle=True)\n",
        "disc_optim = optim.Adam(disc.parameters(), lr=lr)\n",
        "gen_optim = optim.Adam(gen.parameters(), lr=lr)\n",
        "criterion = nn.BCELoss()"
      ]
    },
    {
      "cell_type": "code",
      "execution_count": null,
      "metadata": {
        "id": "3HLl8kDhCz-6"
      },
      "outputs": [],
      "source": [
        "for epoch in range(epochs):\n",
        "    for batch_idx, (real, label) in  enumerate(loader):\n",
        "        real = real.view(-1, 784).to(device)\n",
        "        label = label.to(device)\n",
        "\n",
        "        noise = torch.randn((batch_size, z_dim)).to(device)\n",
        "        fake = gen(noise, label)\n",
        "        disc_real = disc(real, label).view(-1)\n",
        "        lossD_real = criterion(disc_real, torch.ones_like(disc_real))\n",
        "        disc_fake = disc(fake, label).view(-1)\n",
        "        lossD_fake = criterion(disc_fake, torch.zeros_like(disc_fake))\n",
        "        lossD = (lossD_real + lossD_fake) / 2\n",
        "        disc.zero_grad()\n",
        "        lossD.backward(retain_graph=True)\n",
        "        disc_optim.step()\n",
        "\n",
        "        output = disc(fake, label).view(-1)\n",
        "        lossG = criterion(output, torch.ones_like(output))\n",
        "        gen.zero_grad()\n",
        "        lossG.backward()\n",
        "        gen_optim.step()"
      ]
    },
    {
      "cell_type": "code",
      "execution_count": null,
      "metadata": {
        "id": "iwvIbT0eCz-6"
      },
      "outputs": [],
      "source": [
        "model_path = f\"RudiCGAN.pth\"\n",
        "if os.path.exists(model_path):\n",
        "    shutil.rmtree(model_path)\n",
        "\n",
        "torch.save(gen.state_dict(), \"RudiCGAN.pth\")"
      ]
    }
  ],
  "metadata": {
    "kernelspec": {
      "display_name": "myenv",
      "language": "python",
      "name": "python3"
    },
    "language_info": {
      "codemirror_mode": {
        "name": "ipython",
        "version": 3
      },
      "file_extension": ".py",
      "mimetype": "text/x-python",
      "name": "python",
      "nbconvert_exporter": "python",
      "pygments_lexer": "ipython3",
      "version": "3.10.16"
    },
    "colab": {
      "provenance": []
    }
  },
  "nbformat": 4,
  "nbformat_minor": 0
}